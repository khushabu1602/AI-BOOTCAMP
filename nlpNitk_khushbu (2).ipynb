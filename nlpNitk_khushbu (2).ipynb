{
 "cells": [
  {
   "cell_type": "code",
   "execution_count": 21,
   "id": "7c29da45-d287-44c0-ad40-7cde98018b4a",
   "metadata": {},
   "outputs": [
    {
     "name": "stdout",
     "output_type": "stream",
     "text": [
      "Requirement already satisfied: nltk in c:\\users\\user\\anaconda3\\envs\\nielitai\\lib\\site-packages (3.9.1)\n",
      "Requirement already satisfied: click in c:\\users\\user\\anaconda3\\envs\\nielitai\\lib\\site-packages (from nltk) (8.1.8)\n",
      "Requirement already satisfied: joblib in c:\\users\\user\\anaconda3\\envs\\nielitai\\lib\\site-packages (from nltk) (1.4.2)\n",
      "Requirement already satisfied: regex>=2021.8.3 in c:\\users\\user\\anaconda3\\envs\\nielitai\\lib\\site-packages (from nltk) (2024.11.6)\n",
      "Requirement already satisfied: tqdm in c:\\users\\user\\anaconda3\\envs\\nielitai\\lib\\site-packages (from nltk) (4.67.1)\n",
      "Requirement already satisfied: colorama in c:\\users\\user\\anaconda3\\envs\\nielitai\\lib\\site-packages (from click->nltk) (0.4.6)\n"
     ]
    }
   ],
   "source": [
    "!pip install nltk"
   ]
  },
  {
   "cell_type": "code",
   "execution_count": 22,
   "id": "12dc515c-9603-41a3-bce3-1075a970c0d0",
   "metadata": {},
   "outputs": [
    {
     "name": "stderr",
     "output_type": "stream",
     "text": [
      "[nltk_data] Downloading package punkt to\n",
      "[nltk_data]     C:\\Users\\user\\AppData\\Roaming\\nltk_data...\n",
      "[nltk_data]   Package punkt is already up-to-date!\n",
      "[nltk_data] Downloading package stopwords to\n",
      "[nltk_data]     C:\\Users\\user\\AppData\\Roaming\\nltk_data...\n",
      "[nltk_data]   Package stopwords is already up-to-date!\n",
      "[nltk_data] Downloading package wordnet to\n",
      "[nltk_data]     C:\\Users\\user\\AppData\\Roaming\\nltk_data...\n",
      "[nltk_data]   Package wordnet is already up-to-date!\n",
      "[nltk_data] Downloading package averaged_perceptron_tagger to\n",
      "[nltk_data]     C:\\Users\\user\\AppData\\Roaming\\nltk_data...\n",
      "[nltk_data]   Package averaged_perceptron_tagger is already up-to-\n",
      "[nltk_data]       date!\n",
      "[nltk_data] Downloading package punkt_tab to\n",
      "[nltk_data]     C:\\Users\\user\\AppData\\Roaming\\nltk_data...\n",
      "[nltk_data]   Package punkt_tab is already up-to-date!\n",
      "[nltk_data] Downloading package averaged_perceptron_tagger_eng to\n",
      "[nltk_data]     C:\\Users\\user\\AppData\\Roaming\\nltk_data...\n",
      "[nltk_data]   Package averaged_perceptron_tagger_eng is already up-to-\n",
      "[nltk_data]       date!\n"
     ]
    },
    {
     "data": {
      "text/plain": [
       "True"
      ]
     },
     "execution_count": 22,
     "metadata": {},
     "output_type": "execute_result"
    }
   ],
   "source": [
    "import nltk\n",
    "from nltk.tokenize import sent_tokenize, word_tokenize\n",
    "from nltk.corpus import stopwords\n",
    "from nltk.stem import PorterStemmer\n",
    "from nltk.stem import WordNetLemmatizer\n",
    "from nltk import pos_tag\n",
    "\n",
    "# Ensure you have the required NLTK data packages\n",
    "nltk.download('punkt')\n",
    "nltk.download('stopwords')\n",
    "nltk.download('wordnet')\n",
    "nltk.download('averaged_perceptron_tagger')\n",
    "nltk.download('punkt_tab')\n",
    "nltk.download('averaged_perceptron_tagger_eng')"
   ]
  },
  {
   "cell_type": "code",
   "execution_count": 23,
   "id": "681e904d-8e59-4f86-8163-02f22b9e7dfd",
   "metadata": {},
   "outputs": [],
   "source": [
    "# Load the text from a file\n",
    "with open('photography.txt', 'r') as file:\n",
    "    text = file.read()"
   ]
  },
  {
   "cell_type": "code",
   "execution_count": 24,
   "id": "7afd76d6-4510-4160-b34d-c98189b7f183",
   "metadata": {},
   "outputs": [
    {
     "name": "stdout",
     "output_type": "stream",
     "text": [
      "Sentences: ['Photography is an art that captures the beauty of moments in time.', \"Whether it's a landscape, portrait, or an event, a photograph can tell a powerful story.\", 'Great photographers use their cameras as tools to convey emotions, memories, and scenes from everyday life.', 'The composition, lighting, and timing of a shot are key elements in creating stunning photos.', 'Photography also plays a significant role in digital media, social media, and marketing.', 'The evolution of camera technology, from film cameras to digital cameras, has revolutionized how we capture images.', 'Every photograph is a unique creation, reflecting the photographer\\'s perspective and artistic style.\"']\n",
      "Words: ['Photography', 'is', 'an', 'art', 'that', 'captures', 'the', 'beauty', 'of', 'moments', 'in', 'time', '.', 'Whether', 'it', \"'s\", 'a', 'landscape', ',', 'portrait', ',', 'or', 'an', 'event', ',', 'a', 'photograph', 'can', 'tell', 'a', 'powerful', 'story', '.', 'Great', 'photographers', 'use', 'their', 'cameras', 'as', 'tools', 'to', 'convey', 'emotions', ',', 'memories', ',', 'and', 'scenes', 'from', 'everyday', 'life', '.', 'The', 'composition', ',', 'lighting', ',', 'and', 'timing', 'of', 'a', 'shot', 'are', 'key', 'elements', 'in', 'creating', 'stunning', 'photos', '.', 'Photography', 'also', 'plays', 'a', 'significant', 'role', 'in', 'digital', 'media', ',', 'social', 'media', ',', 'and', 'marketing', '.', 'The', 'evolution', 'of', 'camera', 'technology', ',', 'from', 'film', 'cameras', 'to', 'digital', 'cameras', ',', 'has', 'revolutionized', 'how', 'we', 'capture', 'images', '.', 'Every', 'photograph', 'is', 'a', 'unique', 'creation', ',', 'reflecting', 'the', 'photographer', \"'s\", 'perspective', 'and', 'artistic', 'style', '.', \"''\"]\n"
     ]
    }
   ],
   "source": [
    "# 1. Break the text into sentences and words\n",
    "sentences = sent_tokenize(text)\n",
    "words = word_tokenize(text)\n",
    "\n",
    "print(\"Sentences:\", sentences)\n",
    "print(\"Words:\", words)"
   ]
  },
  {
   "cell_type": "code",
   "execution_count": 25,
   "id": "ce85eb5f-af80-475d-a73c-d86123b3b773",
   "metadata": {},
   "outputs": [
    {
     "name": "stdout",
     "output_type": "stream",
     "text": [
      "Filtered Words: ['Photography', 'art', 'captures', 'beauty', 'moments', 'time', 'Whether', 'landscape', 'portrait', 'event', 'photograph', 'tell', 'powerful', 'story', 'Great', 'photographers', 'use', 'cameras', 'tools', 'convey', 'emotions', 'memories', 'scenes', 'everyday', 'life', 'The', 'composition', 'lighting', 'timing', 'shot', 'key', 'elements', 'creating', 'stunning', 'photos', 'Photography', 'also', 'plays', 'significant', 'role', 'digital', 'media', 'social', 'media', 'marketing', 'The', 'evolution', 'camera', 'technology', 'film', 'cameras', 'digital', 'cameras', 'revolutionized', 'capture', 'images', 'Every', 'photograph', 'unique', 'creation', 'reflecting', 'photographer', 'perspective', 'artistic', 'style']\n"
     ]
    }
   ],
   "source": [
    "# 2. Remove common words (stop words)\n",
    "stop_words = set(stopwords.words('english'))\n",
    "filtered_words = [word for word in words if word.isalpha() and word not in stop_words]\n",
    "# The general syntax for a list comprehension is: [expression for item in iterable if condition]\n",
    "print(\"Filtered Words:\", filtered_words)"
   ]
  },
  {
   "cell_type": "code",
   "execution_count": 26,
   "id": "73c22fca-0a35-4eb9-a1a6-de61622a4582",
   "metadata": {},
   "outputs": [
    {
     "name": "stdout",
     "output_type": "stream",
     "text": [
      "Stemmed Words: ['photographi', 'art', 'captur', 'beauti', 'moment', 'time', 'whether', 'landscap', 'portrait', 'event', 'photograph', 'tell', 'power', 'stori', 'great', 'photograph', 'use', 'camera', 'tool', 'convey', 'emot', 'memori', 'scene', 'everyday', 'life', 'the', 'composit', 'light', 'time', 'shot', 'key', 'element', 'creat', 'stun', 'photo', 'photographi', 'also', 'play', 'signific', 'role', 'digit', 'media', 'social', 'media', 'market', 'the', 'evolut', 'camera', 'technolog', 'film', 'camera', 'digit', 'camera', 'revolution', 'captur', 'imag', 'everi', 'photograph', 'uniqu', 'creation', 'reflect', 'photograph', 'perspect', 'artist', 'style']\n"
     ]
    }
   ],
   "source": [
    "# 3. Reduce words to their base form using stemming\n",
    "stemmer = PorterStemmer()\n",
    "stemmed_words = [stemmer.stem(word) for word in filtered_words]\n",
    "\n",
    "print(\"Stemmed Words:\", stemmed_words)"
   ]
  },
  {
   "cell_type": "code",
   "execution_count": 27,
   "id": "38c360c0-0367-43b0-8351-ec5815b392b3",
   "metadata": {},
   "outputs": [
    {
     "name": "stdout",
     "output_type": "stream",
     "text": [
      "Lemmatized Words: ['Photography', 'art', 'capture', 'beauty', 'moment', 'time', 'Whether', 'landscape', 'portrait', 'event', 'photograph', 'tell', 'powerful', 'story', 'Great', 'photographer', 'use', 'camera', 'tool', 'convey', 'emotion', 'memory', 'scene', 'everyday', 'life', 'The', 'composition', 'lighting', 'timing', 'shot', 'key', 'element', 'creating', 'stunning', 'photo', 'Photography', 'also', 'play', 'significant', 'role', 'digital', 'medium', 'social', 'medium', 'marketing', 'The', 'evolution', 'camera', 'technology', 'film', 'camera', 'digital', 'camera', 'revolutionized', 'capture', 'image', 'Every', 'photograph', 'unique', 'creation', 'reflecting', 'photographer', 'perspective', 'artistic', 'style']\n"
     ]
    }
   ],
   "source": [
    "# 4. Perform lemmatization\n",
    "lemmatizer = WordNetLemmatizer()\n",
    "lemmatized_words = [lemmatizer.lemmatize(word) for word in filtered_words]\n",
    "\n",
    "print(\"Lemmatized Words:\", lemmatized_words)\n",
    "\n"
   ]
  },
  {
   "cell_type": "code",
   "execution_count": null,
   "id": "3d9ce21b-e975-4904-84b2-a2bbc95cdee1",
   "metadata": {},
   "outputs": [],
   "source": []
  }
 ],
 "metadata": {
  "kernelspec": {
   "display_name": "Python [conda env:base] *",
   "language": "python",
   "name": "conda-base-py"
  },
  "language_info": {
   "codemirror_mode": {
    "name": "ipython",
    "version": 3
   },
   "file_extension": ".py",
   "mimetype": "text/x-python",
   "name": "python",
   "nbconvert_exporter": "python",
   "pygments_lexer": "ipython3",
   "version": "3.12.7"
  }
 },
 "nbformat": 4,
 "nbformat_minor": 5
}
