{
 "cells": [
  {
   "cell_type": "code",
   "execution_count": 1,
   "id": "883c866a-c779-467b-8e91-c46e37bf9e17",
   "metadata": {},
   "outputs": [
    {
     "name": "stdout",
     "output_type": "stream",
     "text": [
      "Hello, World!\n",
      "!dlroW ,olleH\n"
     ]
    }
   ],
   "source": [
    "input_string = \"Hello, World!\"\n",
    "print( input_string)\n",
    "reversed_string = input_string[::-1]\n",
    "print( reversed_string)"
   ]
  },
  {
   "cell_type": "code",
   "execution_count": 3,
   "id": "d3e1cf50-61d1-4e2f-8a37-34337ea8787b",
   "metadata": {},
   "outputs": [
    {
     "name": "stdout",
     "output_type": "stream",
     "text": [
      "Random Numbers: [49, 8, 79, 98, 21, 20, 86, 87, 46, 75]\n",
      "Even Numbers: [8, 98, 20, 86, 46]\n"
     ]
    }
   ],
   "source": [
    "import random\n",
    "random_numbers = [random.randint(1, 100) for _ in range(10)]\n",
    "print(\"Random Numbers:\", random_numbers)\n",
    "even_numbers = [num for num in random_numbers if num % 2 == 0]\n",
    "print(\"Even Numbers:\", even_numbers)"
   ]
  }
 ],
 "metadata": {
  "kernelspec": {
   "display_name": "Python [conda env:base] *",
   "language": "python",
   "name": "conda-base-py"
  },
  "language_info": {
   "codemirror_mode": {
    "name": "ipython",
    "version": 3
   },
   "file_extension": ".py",
   "mimetype": "text/x-python",
   "name": "python",
   "nbconvert_exporter": "python",
   "pygments_lexer": "ipython3",
   "version": "3.12.7"
  }
 },
 "nbformat": 4,
 "nbformat_minor": 5
}
